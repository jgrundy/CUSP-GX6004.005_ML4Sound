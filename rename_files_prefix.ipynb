{
 "cells": [
  {
   "cell_type": "markdown",
   "metadata": {},
   "source": [
    "<h1>A utility script for batch renaming of files by adding a prefix</h1>"
   ]
  },
  {
   "cell_type": "code",
   "execution_count": 1,
   "metadata": {
    "collapsed": true
   },
   "outputs": [],
   "source": [
    "import os \n",
    "import glob"
   ]
  },
  {
   "cell_type": "code",
   "execution_count": 2,
   "metadata": {
    "collapsed": true
   },
   "outputs": [],
   "source": [
    "folder = '/Users/justin/Downloads/test_conversion/'\n",
    "prefix = 'classical_'"
   ]
  },
  {
   "cell_type": "code",
   "execution_count": 3,
   "metadata": {
    "collapsed": false
   },
   "outputs": [
    {
     "name": "stdout",
     "output_type": "stream",
     "text": [
      "humanvoice.wav --> classical_humanvoice.wav\n"
     ]
    }
   ],
   "source": [
    "audiofiles = glob.glob(os.path.join(folder, \"*\"))\n",
    "for af in audiofiles:\n",
    "    if os.path.isfile(af):\n",
    "        old_basename = os.path.basename(af)\n",
    "        new_basename = prefix + old_basename\n",
    "        print('{:s} --> {:s}'.format(old_basename, new_basename))\n",
    "        os.rename(af, os.path.join(os.path.dirname(af), new_basename))"
   ]
  }
 ],
 "metadata": {
  "kernelspec": {
   "display_name": "Python 2",
   "language": "python",
   "name": "python2"
  },
  "language_info": {
   "codemirror_mode": {
    "name": "ipython",
    "version": 2
   },
   "file_extension": ".py",
   "mimetype": "text/x-python",
   "name": "python",
   "nbconvert_exporter": "python",
   "pygments_lexer": "ipython2",
   "version": "2.7.8"
  }
 },
 "nbformat": 4,
 "nbformat_minor": 0
}
