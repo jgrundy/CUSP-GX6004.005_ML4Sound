{
 "cells": [
  {
   "cell_type": "markdown",
   "metadata": {},
   "source": [
    "<h1>A utility script for batch conversion of audio files</h1>\n",
    "\n",
    "Dependencies:\n",
    " * sox: http://sox.sourceforge.net/ (or \"brew install sox\" for those using homebrew)\n",
    " * pysox: https://github.com/rabitt/pysox"
   ]
  },
  {
   "cell_type": "code",
   "execution_count": 1,
   "metadata": {
    "collapsed": false
   },
   "outputs": [],
   "source": [
    "import os \n",
    "import glob\n",
    "import sox"
   ]
  },
  {
   "cell_type": "code",
   "execution_count": 2,
   "metadata": {
    "collapsed": false
   },
   "outputs": [],
   "source": [
    "input_folder = '/Users/justin/Downloads/test_conversion/'\n",
    "output_folder = '/Users/justin/Downloads/test_conversion/'"
   ]
  },
  {
   "cell_type": "code",
   "execution_count": 3,
   "metadata": {
    "collapsed": true
   },
   "outputs": [],
   "source": [
    "# Here we specify the desired output format\n",
    "out_format = 'wav'\n",
    "out_sr = 44100\n",
    "out_bitdepth = 16\n",
    "out_channels = 1"
   ]
  },
  {
   "cell_type": "code",
   "execution_count": 4,
   "metadata": {
    "collapsed": false
   },
   "outputs": [
    {
     "name": "stdout",
     "output_type": "stream",
     "text": [
      "Converting: humanvoice.wav\n"
     ]
    }
   ],
   "source": [
    "# Find all files in the input folder (they must all be audio files!)\n",
    "audiofiles = glob.glob(os.path.join(input_folder, \"*\"))\n",
    "\n",
    "# Convert each file\n",
    "for af in audiofiles:\n",
    "    if os.path.isfile(af):\n",
    "        print(\"Converting: {:s}\".format(os.path.basename(af)))\n",
    "        outfile = os.path.join(output_folder, \"{:s}.{:s}\".format(os.path.basename(af), out_format))\n",
    "        tfm = sox.Transformer(af, outfile)\n",
    "        tfm.convert(samplerate=out_sr, channels=out_channels, bitdepth=out_bitdepth)\n",
    "        tfm.build()"
   ]
  }
 ],
 "metadata": {
  "kernelspec": {
   "display_name": "Python 2",
   "language": "python",
   "name": "python2"
  },
  "language_info": {
   "codemirror_mode": {
    "name": "ipython",
    "version": 2
   },
   "file_extension": ".py",
   "mimetype": "text/x-python",
   "name": "python",
   "nbconvert_exporter": "python",
   "pygments_lexer": "ipython2",
   "version": "2.7.8"
  }
 },
 "nbformat": 4,
 "nbformat_minor": 0
}
